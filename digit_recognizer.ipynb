{
 "cells": [
  {
   "cell_type": "markdown",
   "metadata": {},
   "source": [
    "# Digit Recognizer\n",
    "\n",
    "## Machine Learning\n",
    "\n",
    "In this notebook, I will try to use sklearn to implement machine learning in digit recognizer via two methods: SVM and K-nearest neighbors. "
   ]
  },
  {
   "cell_type": "markdown",
   "metadata": {},
   "source": [
    "---\n",
    "## 1. Load The Data"
   ]
  },
  {
   "cell_type": "code",
   "execution_count": 1,
   "metadata": {},
   "outputs": [
    {
     "name": "stdout",
     "output_type": "stream",
     "text": [
      "Reading in the training data......\n",
      "Spliting the training data into training and valid......\n",
      "Finish!\n"
     ]
    }
   ],
   "source": [
    "## Load data\n",
    "import csv\n",
    "import numpy as np\n",
    "from sklearn.model_selection import train_test_split\n",
    "\n",
    "## define a function that translat the string into float in the array\n",
    "def trans_str2int(strlist):\n",
    "    intlist = []\n",
    "    for i in range(len(strlist)):\n",
    "        intlist.append([])\n",
    "        for j in range(len(strlist[i])):\n",
    "            intlist[i].append(int(strlist[i][j]))\n",
    "    return list(intlist)\n",
    "\n",
    "X_str = []\n",
    "Y = []\n",
    "print('Reading in the training data......')\n",
    "with open('./data/train.csv') as csvfile:\n",
    "    lines = csv.reader(csvfile)\n",
    "    for line in lines:\n",
    "        Y.append(line[0])\n",
    "        image = np.array(line[1:])\n",
    "        X_str.append(image)\n",
    "    del X_str[0]\n",
    "    del Y[0]\n",
    "\n",
    "# print('Reading in the testing data......')\n",
    "# x_test_str = []\n",
    "# with open('./data/test.csv') as csvfile:\n",
    "#     lines = csv.reader(csvfile)\n",
    "#     for line in lines:\n",
    "#         image = np.array(line)\n",
    "#         x_test_str.append(image)\n",
    "#     del x_test_str[0]\n",
    "\n",
    "X = trans_str2int(X_str)\n",
    "# x_test = trans_str2int(x_test_str)\n",
    "# y_test = np.zeros(len(x_test))\n",
    "\n",
    "print('Spliting the training data into training and valid......')\n",
    "## split the train data into training and validation part to check the model\n",
    "## validation set takes 3% data from the whole training data \n",
    "x_train, x_valid, y_train, y_valid = train_test_split(X, Y, test_size=0.03, random_state=1)\n",
    "print('Finish!')"
   ]
  },
  {
   "cell_type": "markdown",
   "metadata": {},
   "source": [
    "---\n",
    "\n",
    "## 2. Dataset Summary & Exploration"
   ]
  },
  {
   "cell_type": "markdown",
   "metadata": {},
   "source": [
    "### Provide a Basic Summary of the Data Set"
   ]
  },
  {
   "cell_type": "code",
   "execution_count": 2,
   "metadata": {
    "scrolled": false
   },
   "outputs": [
    {
     "name": "stdout",
     "output_type": "stream",
     "text": [
      "Number of training examples = 40740\n",
      "Number of validation examples = 1260\n",
      "Image data shape = 1*784\n",
      "Number of classes = 10\n"
     ]
    }
   ],
   "source": [
    "## print the size of each set\n",
    "n_train = len(x_train)\n",
    "\n",
    "## Number of validation examples\n",
    "n_validation = len(x_valid)\n",
    "\n",
    "## Number of testing examples.\n",
    "# n_test = len(x_test)\n",
    "\n",
    "## The shape of the data\n",
    "image_shape = str(1) + '*' + str(len(x_train[0]))\n",
    "\n",
    "## Numbers of unique classes/labels in the dataset.\n",
    "n_classes = len(set(y_train))\n",
    "\n",
    "print(\"Number of training examples =\", n_train)\n",
    "print(\"Number of validation examples =\", n_validation)\n",
    "# print(\"Number of testing examples =\", n_test)\n",
    "print(\"Image data shape =\", image_shape)\n",
    "print(\"Number of classes =\", n_classes)"
   ]
  },
  {
   "cell_type": "markdown",
   "metadata": {},
   "source": [
    "### Include an exploratory visualization of the dataset"
   ]
  },
  {
   "cell_type": "code",
   "execution_count": 3,
   "metadata": {},
   "outputs": [
    {
     "name": "stdout",
     "output_type": "stream",
     "text": [
      "3\n"
     ]
    },
    {
     "data": {
      "image/png": "[encoded data removed]",
      "text/plain": [
       "<Figure size 72x72 with 1 Axes>"
      ]
     },
     "metadata": {},
     "output_type": "display_data"
    }
   ],
   "source": [
    "## Data exploration visualization code goes here.\n",
    "import matplotlib.pyplot as plt\n",
    "import random\n",
    "# Visualizations will be shown in the notebook.\n",
    "%matplotlib inline\n",
    "\n",
    "index = random.randint(0,len(x_train))\n",
    "image = np.array(x_train[index])\n",
    "image = image.reshape((28,28))\n",
    "\n",
    "plt.figure(figsize=(1,1))\n",
    "plt.imshow(image, cmap='gray')\n",
    "print(y_train[index])"
   ]
  },
  {
   "cell_type": "code",
   "execution_count": 4,
   "metadata": {
    "scrolled": false
   },
   "outputs": [
    {
     "data": {
      "image/png": "[encoded data removed]",
      "text/plain": [
       "<Figure size 1080x1080 with 1 Axes>"
      ]
     },
     "metadata": {},
     "output_type": "display_data"
    }
   ],
   "source": [
    "## show the data in picture\n",
    "import copy\n",
    "\n",
    "def datacount(data):\n",
    "    number = []\n",
    "    count = copy.deepcopy(data)\n",
    "    count.sort()\n",
    "    for i in range(9):\n",
    "        a = count.index(str(i+1))-count.index(str(i))\n",
    "        number.append(a)\n",
    "        \n",
    "    a = len(count)-count.index(str(9))\n",
    "    number.append(a)\n",
    "    return number\n",
    "\n",
    "signs = np.arange(10)\n",
    "plt.figure(figsize=(15,15))\n",
    "percent_train = np.divide(datacount(y_train),len(y_train))\n",
    "percent_valid = np.divide(datacount(y_valid),len(y_valid))\n",
    "# percent_test = np.divide(datacount(y_test),len(y_test))\n",
    "plt.bar(signs-0.1, percent_train, width = 0.2, fc = 'r', edgecolor = 'white', label='train', lw=1)\n",
    "plt.bar(signs+0.1, percent_valid, width = 0.2, fc = 'g', edgecolor = 'white', label='validation', lw=1)\n",
    "# plt.bar(signs+0.25, percent_test, width = 0.25, fc = 'b', edgecolor = 'white', label='test', lw=1)\n",
    "plt.legend(loc=\"upper left\")\n",
    "# plt.savefig('./pictures/data_bar.jpg')\n",
    "plt.show()"
   ]
  },
  {
   "cell_type": "code",
   "execution_count": 9,
   "metadata": {},
   "outputs": [
    {
     "name": "stdout",
     "output_type": "stream",
     "text": [
      "DigitName   Training   Validation\n",
      "   0         9.84%       9.76%\n",
      "   1        11.12%      12.22%\n",
      "   2         9.88%      11.98%\n",
      "   3        10.39%       9.44%\n",
      "   4         9.69%       9.92%\n",
      "   5         9.03%       9.37%\n",
      "   6         9.90%       8.25%\n",
      "   7        10.52%       9.13%\n",
      "   8         9.69%       9.29%\n",
      "   9         9.95%      10.63%\n"
     ]
    }
   ],
   "source": [
    "## show the data in table\n",
    "\n",
    "print(\"{0:<3}\".format(\"DigitName\"), \"{0:10}\".format(\"  Training \"),\"{0:10}\".format(\" Validation\"))\n",
    "for j in range(10):\n",
    "    print('   {0:<3}'.format(j),\n",
    "          \"{0:10.2f}%\".format(percent_train[j]*100 ),\"{0:10.2f}%\".format(percent_valid[j]*100 ))"
   ]
  },
  {
   "cell_type": "code",
   "execution_count": 10,
   "metadata": {},
   "outputs": [
    {
     "data": {
      "image/png": "[encoded data removed]",
      "text/plain": [
       "<matplotlib.figure.Figure at 0x7f32a47a4390>"
      ]
     },
     "metadata": {},
     "output_type": "display_data"
    }
   ],
   "source": [
    "## visualize all the examples\n",
    "\n",
    "fig = plt.figure(figsize=(20,20))\n",
    "\n",
    "for i in range(10):\n",
    "    y = list(y_train)\n",
    "    index = y.index(str(i))\n",
    "    fig.add_subplot(5,10,i+1)\n",
    "    fig.add_subplot(5,10,i+1).set_title(str(i))\n",
    "    plt.imshow(np.array(x_train[index]).reshape(28,28), cmap='gray')"
   ]
  },
  {
   "cell_type": "markdown",
   "metadata": {},
   "source": [
    "----\n",
    "\n",
    "## 3. Data processing\n",
    "\n",
    "To train the codel more effectively, I will do some pre-processing (normalization).\n",
    "\n",
    "The image data should be normalized so that the data has mean zero and equal variance. For image data, `(pixel - 128)/ 128` is a quick way to approximately normalize the data and can be used in this project. "
   ]
  },
  {
   "cell_type": "code",
   "execution_count": 6,
   "metadata": {
    "scrolled": false
   },
   "outputs": [
    {
     "name": "stdout",
     "output_type": "stream",
     "text": [
      "Normalizing the training data......\n",
      "Normalizing in the valid data......\n",
      "Normalizing in the whole data......\n",
      "Finish!\n"
     ]
    }
   ],
   "source": [
    "## normalized the pixels\n",
    "print('Normalizing the training data......')\n",
    "x_train = (np.array(x_train)-128.0)/128.0\n",
    "print('Normalizing in the valid data......')\n",
    "x_valid = (np.array(x_valid)-128.0)/128.0\n",
    "# print('Reading in the testing data......')\n",
    "# x_test = (np.array(x_test)-128.0)/128.0\n",
    "print('Normalizing in the whole data......')\n",
    "X = (np.array(X)-128.0)/128.0\n",
    "print('Finish!')"
   ]
  },
  {
   "cell_type": "markdown",
   "metadata": {},
   "source": [
    "----\n",
    "\n",
    "## 4. KNN method"
   ]
  },
  {
   "cell_type": "code",
   "execution_count": 3,
   "metadata": {},
   "outputs": [
    {
     "name": "stdout",
     "output_type": "stream",
     "text": [
      "Training the knn classifier......\n",
      "1.0\n"
     ]
    }
   ],
   "source": [
    "## train the model\n",
    "from sklearn import neighbors\n",
    "print('Training the knn classifier......')\n",
    "\n",
    "knn = neighbors.KNeighborsClassifier(20, weights='distance') # weights raise with smaller distance\n",
    "knn.fit(x_train, y_train)\n",
    "score = knn.score(x_train, y_train)\n",
    "print(score)"
   ]
  },
  {
   "cell_type": "code",
   "execution_count": 5,
   "metadata": {
    "scrolled": true
   },
   "outputs": [],
   "source": [
    "## evaluate the model\n",
    "\n",
    "# define a function to calculate the precision, recall and F value\n",
    "def precion_and_recall(prediction,proves):\n",
    "    calcu = [[0,0,0,i] for i in range(10)]\n",
    "    for i in range(len(prediction)):\n",
    "        if proves[i] == prediction[i]:\n",
    "            calcu[proves[i]][1] += 1 \n",
    "        else:\n",
    "            calcu[proves[i]][0] += 1\n",
    "            calcu[prediction[i]][2] += 1\n",
    "    ret = calcu\n",
    "    for j in range(len(calcu)):\n",
    "        ret[j][0] = calcu[j][1]/(calcu[j][1]+calcu[j][0])  ### precision\n",
    "        ret[j][1] = calcu[j][1]/(calcu[j][1]+calcu[j][2])  ### recall\n",
    "        ret[j][2] = ret[j][0]*ret[j][1]*2/(ret[j][1]+ret[j][0])  ### F\n",
    "    return ret"
   ]
  },
  {
   "cell_type": "code",
   "execution_count": 11,
   "metadata": {},
   "outputs": [
    {
     "name": "stdout",
     "output_type": "stream",
     "text": [
      "0.953968253968254\n"
     ]
    }
   ],
   "source": [
    "valid_predict = knn.predict(x_valid)\n",
    "print(knn.score(x_valid, y_valid))\n",
    "\n",
    "# translate the str into int\n",
    "number_valid = datacount(y_valid)\n",
    "prove = [int(i) for i in y_valid]\n",
    "predict = [int(j) for j in valid_predict]\n",
    "\n",
    "# calculate the precision, recall and F value and sort it according to F value\n",
    "pre_and_re = precion_and_recall(predict, prove)\n",
    "pre_and_re.sort(key=lambda x:x[2])"
   ]
  },
  {
   "cell_type": "code",
   "execution_count": 12,
   "metadata": {},
   "outputs": [
    {
     "name": "stdout",
     "output_type": "stream",
     "text": [
      "DigitName  Precision    Recall        F    \n",
      "   7        95.65%      87.30%      91.29%\n",
      "   9        93.28%      94.70%      93.98%\n",
      "   2        91.39%      97.18%      94.20%\n",
      "   8        93.16%      98.20%      95.61%\n",
      "   5        94.07%      97.37%      95.69%\n",
      "   4        94.40%      97.52%      95.93%\n",
      "   6        98.08%      94.44%      96.23%\n",
      "   0        97.56%      95.24%      96.39%\n",
      "   3        96.64%      96.64%      96.64%\n",
      "   1       100.00%      95.65%      97.78%\n"
     ]
    }
   ],
   "source": [
    "## list the result in sheet\n",
    "\n",
    "signames = range(10)\n",
    "\n",
    "print(\"{0:<3}\".format(\"DigitName\"),  \"{0:10}\".format(\" Precision\"),\"{0:10}\".format(\"   Recall\"), \" {0:10}\".format(\"     F\"))\n",
    "for j in range(len(pre_and_re)):\n",
    "    print('   {0:<3}'.format(signames[pre_and_re[j][3]]),\n",
    "      \"{0:10.2f}%\".format(pre_and_re[j][0]*100),\"{0:10.2f}%\".format(pre_and_re[j][1]*100),\n",
    "      \"{0:10.2f}%\".format(pre_and_re[j][2]*100))"
   ]
  },
  {
   "cell_type": "markdown",
   "metadata": {},
   "source": [
    "## 5. SVM Method, default kernel(rbf)"
   ]
  },
  {
   "cell_type": "markdown",
   "metadata": {},
   "source": [
    "### first try gamma = 'auto' (1/n_features), C = default(1.0)."
   ]
  },
  {
   "cell_type": "code",
   "execution_count": 3,
   "metadata": {},
   "outputs": [
    {
     "name": "stdout",
     "output_type": "stream",
     "text": [
      "0.971060382916053\n"
     ]
    }
   ],
   "source": [
    "# train the model\n",
    "\n",
    "from sklearn import svm\n",
    "\n",
    "print('Training the SVM classifier......')\n",
    "clf = svm.SVC()\n",
    "clf.fit(x_train, y_train)\n",
    "score = clf.score(x_train, y_train)\n",
    "print(score)"
   ]
  },
  {
   "cell_type": "code",
   "execution_count": 11,
   "metadata": {},
   "outputs": [
    {
     "name": "stdout",
     "output_type": "stream",
     "text": [
      "0.9634920634920635\n"
     ]
    }
   ],
   "source": [
    "## evaluate the model\n",
    "\n",
    "valid_predict = clf.predict(x_valid)\n",
    "\n",
    "print(clf.score(x_valid, y_valid))\n",
    "\n",
    "# translate the str into int\n",
    "number_valid = datacount(y_valid)\n",
    "prove = [int(i) for i in y_valid]\n",
    "predict = [int(j) for j in valid_predict]\n",
    "\n",
    "# calculate the precision, recall and F value and sort it according to F value\n",
    "pre_and_re = precion_and_recall(predict, prove)\n",
    "pre_and_re.sort(key=lambda x:x[2])"
   ]
  },
  {
   "cell_type": "code",
   "execution_count": 14,
   "metadata": {},
   "outputs": [
    {
     "name": "stdout",
     "output_type": "stream",
     "text": [
      "DigitName  Precision    Recall        F    \n",
      "   5        93.22%      94.83%      94.02%\n",
      "   3        92.44%      95.65%      94.02%\n",
      "   7        95.65%      94.02%      94.83%\n",
      "   9        94.78%      96.21%      95.49%\n",
      "   4        96.00%      96.00%      96.00%\n",
      "   8        94.87%      97.37%      96.10%\n",
      "   2        98.01%      96.73%      97.37%\n",
      "   6        98.08%      97.14%      97.61%\n",
      "   0        99.19%      96.83%      97.99%\n",
      "   1       100.00%      98.09%      99.04%\n"
     ]
    }
   ],
   "source": [
    "# list the result in sheet\n",
    "\n",
    "print(\"{0:<3}\".format(\"DigitName\"),  \"{0:10}\".format(\" Precision\"),\"{0:10}\".format(\"   Recall\"), \" {0:10}\".format(\"     F\"))\n",
    "for j in range(len(pre_and_re)):\n",
    "    print('   {0:<3}'.format(signames[pre_and_re[j][3]]),\n",
    "      \"{0:10.2f}%\".format(pre_and_re[j][0]*100),\"{0:10.2f}%\".format(pre_and_re[j][1]*100),\n",
    "      \"{0:10.2f}%\".format(pre_and_re[j][2]*100))"
   ]
  },
  {
   "cell_type": "markdown",
   "metadata": {},
   "source": [
    "### Parameter Tuning for SVM: Kernel, C, gamma"
   ]
  },
  {
   "cell_type": "markdown",
   "metadata": {},
   "source": [
    "#### First find the best C."
   ]
  },
  {
   "cell_type": "code",
   "execution_count": 6,
   "metadata": {},
   "outputs": [
    {
     "name": "stderr",
     "output_type": "stream",
     "text": [
      "C:\\Users\\Wyatt\\Miniconda3\\lib\\site-packages\\sklearn\\cross_validation.py:41: DeprecationWarning: This module was deprecated in version 0.18 in favor of the model_selection module into which all the refactored classes and functions are moved. Also note that the interface of the new CV iterators are different from that of this module. This module will be removed in 0.20.\n",
      "  \"This module will be removed in 0.20.\", DeprecationWarning)\n",
      "C:\\Users\\Wyatt\\Miniconda3\\lib\\site-packages\\sklearn\\grid_search.py:42: DeprecationWarning: This module was deprecated in version 0.18 in favor of the model_selection module into which all the refactored classes and functions are moved. This module will be removed in 0.20.\n",
      "  DeprecationWarning)\n"
     ]
    },
    {
     "name": "stdout",
     "output_type": "stream",
     "text": [
      "{'C': 11}\n"
     ]
    }
   ],
   "source": [
    "# from sklearn import svm,  grid_search\n",
    "# X = (np.array(X)-128.0)/128.0\n",
    "# parameters = {'C':[1,6,11]}\n",
    "# svr = svm.SVC()\n",
    "# clf = grid_search.GridSearchCV(svr, parameters)\n",
    "# clf.fit(X, Y)\n",
    "# print(clf.best_params_)"
   ]
  },
  {
   "cell_type": "code",
   "execution_count": 20,
   "metadata": {},
   "outputs": [
    {
     "name": "stdout",
     "output_type": "stream",
     "text": [
      "0.996367206676485\n"
     ]
    }
   ],
   "source": [
    "clf = svm.SVC(C = 11)\n",
    "clf.fit(x_train, y_train)\n",
    "score = clf.score(x_train, y_train)\n",
    "print(score)"
   ]
  },
  {
   "cell_type": "code",
   "execution_count": 21,
   "metadata": {},
   "outputs": [
    {
     "name": "stdout",
     "output_type": "stream",
     "text": [
      "0.9714285714285714\n",
      "DigitName  Precision    Recall        F    \n",
      "   7        95.65%      94.02%      94.83%\n",
      "   4        94.40%      97.52%      95.93%\n",
      "   5        94.07%      98.23%      96.10%\n",
      "   9        97.01%      96.30%      96.65%\n",
      "   8        95.73%      98.25%      96.97%\n",
      "   2        98.01%      96.10%      97.05%\n",
      "   3        97.48%      96.67%      97.07%\n",
      "   0        99.19%      97.60%      98.39%\n",
      "   1       100.00%      98.09%      99.04%\n",
      "   6        99.04%      99.04%      99.04%\n"
     ]
    }
   ],
   "source": [
    "## evaluate the model\n",
    "\n",
    "valid_predict = clf.predict(x_valid)\n",
    "\n",
    "print(clf.score(x_valid, y_valid))\n",
    "\n",
    "# translate the str into int\n",
    "number_valid = datacount(y_valid)\n",
    "prove = [int(i) for i in y_valid]\n",
    "predict = [int(j) for j in valid_predict]\n",
    "\n",
    "# calculate the precision, recall and F value and sort it according to F value\n",
    "pre_and_re = precion_and_recall(predict, prove)\n",
    "pre_and_re.sort(key=lambda x:x[2])\n",
    "\n",
    "# list the result in sheet\n",
    "\n",
    "print(\"{0:<3}\".format(\"DigitName\"),  \"{0:10}\".format(\" Precision\"),\"{0:10}\".format(\"   Recall\"), \" {0:10}\".format(\"     F\"))\n",
    "for j in range(len(pre_and_re)):\n",
    "    print('   {0:<3}'.format(signames[pre_and_re[j][3]]),\n",
    "      \"{0:10.2f}%\".format(pre_and_re[j][0]*100),\"{0:10.2f}%\".format(pre_and_re[j][1]*100),\n",
    "      \"{0:10.2f}%\".format(pre_and_re[j][2]*100))"
   ]
  },
  {
   "cell_type": "code",
   "execution_count": 16,
   "metadata": {
    "scrolled": false
   },
   "outputs": [
    {
     "name": "stdout",
     "output_type": "stream",
     "text": [
      "Start tuning parameters of kernel......\n",
      "{'kernel': 'poly'}\n"
     ]
    },
    {
     "ename": "NameError",
     "evalue": "name 'best_estimator_' is not defined",
     "output_type": "error",
     "traceback": [
      "\u001b[1;31m---------------------------------------------------------------------------\u001b[0m",
      "\u001b[1;31mNameError\u001b[0m                                 Traceback (most recent call last)",
      "\u001b[1;32m<ipython-input-16-05de0512d78f>\u001b[0m in \u001b[0;36m<module>\u001b[1;34m()\u001b[0m\n\u001b[0;32m     10\u001b[0m \u001b[0mprint\u001b[0m\u001b[1;33m(\u001b[0m\u001b[0mclf\u001b[0m\u001b[1;33m.\u001b[0m\u001b[0mbest_params_\u001b[0m\u001b[1;33m)\u001b[0m\u001b[1;33m\u001b[0m\u001b[0m\n\u001b[0;32m     11\u001b[0m \u001b[0mbest_kernel\u001b[0m \u001b[1;33m=\u001b[0m \u001b[0mclf\u001b[0m\u001b[1;33m.\u001b[0m\u001b[0mbest_params_\u001b[0m\u001b[1;33m[\u001b[0m\u001b[1;34m'kernel'\u001b[0m\u001b[1;33m]\u001b[0m\u001b[1;33m\u001b[0m\u001b[0m\n\u001b[1;32m---> 12\u001b[1;33m \u001b[0mold_score\u001b[0m \u001b[1;33m=\u001b[0m \u001b[0mbest_estimator_\u001b[0m\u001b[1;33m.\u001b[0m\u001b[0mscore\u001b[0m\u001b[1;33m(\u001b[0m\u001b[0mX\u001b[0m\u001b[1;33m,\u001b[0m\u001b[0mY\u001b[0m\u001b[1;33m)\u001b[0m\u001b[1;33m\u001b[0m\u001b[0m\n\u001b[0m\u001b[0;32m     13\u001b[0m \u001b[0mprint\u001b[0m\u001b[1;33m(\u001b[0m\u001b[1;34m'score: '\u001b[0m\u001b[1;33m,\u001b[0m \u001b[0mold_score\u001b[0m\u001b[1;33m)\u001b[0m\u001b[1;33m\u001b[0m\u001b[0m\n\u001b[0;32m     14\u001b[0m \u001b[0mprint\u001b[0m\u001b[1;33m(\u001b[0m\u001b[1;34m'Finish!'\u001b[0m\u001b[1;33m)\u001b[0m\u001b[1;33m\u001b[0m\u001b[0m\n",
      "\u001b[1;31mNameError\u001b[0m: name 'best_estimator_' is not defined"
     ]
    }
   ],
   "source": [
    "## select the best kernel\n",
    "from sklearn import svm,  grid_search\n",
    "parameters = {'kernel': ['linear', 'poly', 'rbf', 'sigmoid' ]}\n",
    "svr = svm.SVC()\n",
    "clf = grid_search.GridSearchCV(svr, parameters)\n",
    "\n",
    "print('Start tuning parameters of kernel......')\n",
    "\n",
    "clf.fit(X, Y)\n",
    "print(clf.best_params_)"
   ]
  },
  {
   "cell_type": "code",
   "execution_count": 17,
   "metadata": {},
   "outputs": [
    {
     "name": "stdout",
     "output_type": "stream",
     "text": [
      "score:  0.9771428571428571\n",
      "Finish!\n"
     ]
    }
   ],
   "source": [
    "best_kernel = clf.best_params_['kernel']\n",
    "old_score = clf.best_estimator_.score(X,Y)\n",
    "print('score: ', old_score)\n",
    "print('Finish!')"
   ]
  },
  {
   "cell_type": "code",
   "execution_count": null,
   "metadata": {},
   "outputs": [
    {
     "name": "stdout",
     "output_type": "stream",
     "text": [
      "Epoch  1\n",
      "Parameters:  {'C': 15, 'kernel': 'poly'}\n",
      "Score:  0.9989761904761905\n",
      "Continue training......\n",
      "Epoch  2\n"
     ]
    }
   ],
   "source": [
    "## select the best parameters\n",
    "## linear:     C\n",
    "## polynomial: C, degree, coef0\n",
    "## rbf:        C, gamma(must > 0 )\n",
    "## sigmoid:    C, coef0\n",
    "## see: http://scikit-learn.org/stable/modules/svm.html#svm-kernels\n",
    "\n",
    "## already picked: 16 from 8,16,24 and 14 form 14,16,18\n",
    "\n",
    "from sklearn import svm,  grid_search\n",
    "tune_step = {'C': 1}\n",
    "parameters = {'C':[13, 14, 15], 'kernel' : ['poly']}\n",
    "tune_pare = 'C'\n",
    "svr = svm.SVC()\n",
    "\n",
    "old_score = 0.998\n",
    "epoch = 0\n",
    "while True:\n",
    "    epoch += 1\n",
    "    print('Epoch ', epoch)\n",
    "    clf = grid_search.GridSearchCV(svr, parameters, n_jobs=3)\n",
    "    clf.fit(X,Y)\n",
    "    new_score = clf.best_estimator_.score(X,Y)\n",
    "    print('Parameters: ', clf.best_params_)\n",
    "    print('Score: ', new_score)\n",
    "    if abs(new_score-old_score) > 0.05 or tune_step[tune_pare] > 1:\n",
    "        print('Continue training......')\n",
    "        old_score = new_score\n",
    "        tune_step[tune_pare] = tune_step[tune_pare]/2\n",
    "        parameters[tune_pare] = [clf.best_params_[tune_pare]-tune_step[tune_pare], \n",
    "                                 clf.best_params_[tune_pare], \n",
    "                                 clf.best_params_[tune_pare]+tune_step[tune_pare]]\n",
    "    else:\n",
    "        break\n",
    "print('Tuning finished!')"
   ]
  },
  {
   "cell_type": "code",
   "execution_count": 6,
   "metadata": {},
   "outputs": [
    {
     "name": "stdout",
     "output_type": "stream",
     "text": [
      "0.9990427098674521\n"
     ]
    }
   ],
   "source": [
    "from sklearn import svm\n",
    "clf = svm.SVC(kernel = 'poly', C = 15)\n",
    "clf.fit(x_train, y_train)\n",
    "score = clf.score(x_train, y_train)\n",
    "print(score)"
   ]
  },
  {
   "cell_type": "code",
   "execution_count": 10,
   "metadata": {},
   "outputs": [
    {
     "name": "stdout",
     "output_type": "stream",
     "text": [
      "0.9706349206349206\n",
      "DigitName  Precision    Recall        F    \n",
      "   7        95.65%      94.83%      95.24%\n",
      "   5        94.07%      98.23%      96.10%\n",
      "   9        97.76%      94.93%      96.32%\n",
      "   4        94.40%      98.33%      96.33%\n",
      "   3        96.64%      96.64%      96.64%\n",
      "   2        98.01%      95.48%      96.73%\n",
      "   8        95.73%      98.25%      96.97%\n",
      "   0        99.19%      96.83%      97.99%\n",
      "   6        98.08%      99.03%      98.55%\n",
      "   1       100.00%      98.72%      99.35%\n"
     ]
    }
   ],
   "source": [
    "valid_predict = clf.predict(x_valid)\n",
    "\n",
    "print(clf.score(x_valid, y_valid))\n",
    "\n",
    "# translate the str into int\n",
    "number_valid = datacount(y_valid)\n",
    "prove = [int(i) for i in y_valid]\n",
    "predict = [int(j) for j in valid_predict]\n",
    "\n",
    "# calculate the precision, recall and F value and sort it according to F value\n",
    "pre_and_re = precion_and_recall(predict, prove)\n",
    "pre_and_re.sort(key=lambda x:x[2])\n",
    "\n",
    "# list the result in sheet\n",
    "\n",
    "signames = range(10)\n",
    "\n",
    "print(\"{0:<3}\".format(\"DigitName\"),  \"{0:10}\".format(\" Precision\"),\"{0:10}\".format(\"   Recall\"), \" {0:10}\".format(\"     F\"))\n",
    "for j in range(len(pre_and_re)):\n",
    "    print('   {0:<3}'.format(signames[pre_and_re[j][3]]),\n",
    "      \"{0:10.2f}%\".format(pre_and_re[j][0]*100),\"{0:10.2f}%\".format(pre_and_re[j][1]*100),\n",
    "      \"{0:10.2f}%\".format(pre_and_re[j][2]*100))"
   ]
  },
  {
   "cell_type": "code",
   "execution_count": null,
   "metadata": {},
   "outputs": [
    {
     "name": "stderr",
     "output_type": "stream",
     "text": [
      "C:\\Users\\Wyatt\\Miniconda3\\lib\\site-packages\\sklearn\\cross_validation.py:41: DeprecationWarning: This module was deprecated in version 0.18 in favor of the model_selection module into which all the refactored classes and functions are moved. Also note that the interface of the new CV iterators are different from that of this module. This module will be removed in 0.20.\n",
      "  \"This module will be removed in 0.20.\", DeprecationWarning)\n",
      "C:\\Users\\Wyatt\\Miniconda3\\lib\\site-packages\\sklearn\\grid_search.py:42: DeprecationWarning: This module was deprecated in version 0.18 in favor of the model_selection module into which all the refactored classes and functions are moved. This module will be removed in 0.20.\n",
      "  DeprecationWarning)\n"
     ]
    },
    {
     "name": "stdout",
     "output_type": "stream",
     "text": [
      "Epoch  1\n",
      "Parameters:  {'C': 15, 'degree': 8, 'kernel': 'poly'}\n",
      "Score:  0.9999761904761905\n",
      "Continue training......\n",
      "Epoch  2\n",
      "Parameters:  {'C': 15, 'degree': 12.0, 'kernel': 'poly'}\n",
      "Score:  1.0\n",
      "Continue training......\n",
      "Epoch  3\n",
      "Parameters:  {'C': 15, 'degree': 10.0, 'kernel': 'poly'}\n",
      "Score:  1.0\n",
      "Continue training......\n",
      "Epoch  4\n"
     ]
    }
   ],
   "source": [
    "from sklearn import svm,  grid_search\n",
    "tune_step = {'degree': 8}\n",
    "parameters = {'C':[15], 'degree':[8, 16, 24], 'kernel' : ['poly']}\n",
    "tune_pare = 'degree'\n",
    "svr = svm.SVC()\n",
    "\n",
    "old_score = 0.998\n",
    "epoch = 0\n",
    "while True:\n",
    "    epoch += 1\n",
    "    print('Epoch ', epoch)\n",
    "    clf = grid_search.GridSearchCV(svr, parameters, n_jobs=3)\n",
    "    clf.fit(X,Y)\n",
    "    new_score = clf.best_estimator_.score(X,Y)\n",
    "    print('Parameters: ', clf.best_params_)\n",
    "    print('Score: ', new_score)\n",
    "    if abs(new_score-old_score) > 0.05 or tune_step[tune_pare] > 1:\n",
    "        print('Continue training......')\n",
    "        old_score = new_score\n",
    "        tune_step[tune_pare] = tune_step[tune_pare]/2\n",
    "        parameters[tune_pare] = [clf.best_params_[tune_pare]-tune_step[tune_pare], \n",
    "                                 clf.best_params_[tune_pare], \n",
    "                                 clf.best_params_[tune_pare]+tune_step[tune_pare]]\n",
    "    else:\n",
    "        break\n",
    "print('Tuning finished!')"
   ]
  },
  {
   "cell_type": "code",
   "execution_count": 7,
   "metadata": {},
   "outputs": [
    {
     "name": "stdout",
     "output_type": "stream",
     "text": [
      "1.0\n"
     ]
    }
   ],
   "source": [
    "from sklearn import svm\n",
    "clf = svm.SVC(kernel = 'poly', C = 15, degree = 10)\n",
    "clf.fit(x_train, y_train)\n",
    "score = clf.score(x_train, y_train)\n",
    "print(score)"
   ]
  },
  {
   "cell_type": "code",
   "execution_count": 8,
   "metadata": {},
   "outputs": [
    {
     "name": "stdout",
     "output_type": "stream",
     "text": [
      "0.9809523809523809\n",
      "DigitName  Precision    Recall        F    \n",
      "   7        96.52%      96.52%      96.52%\n",
      "   4        96.00%      97.56%      96.77%\n",
      "   9        98.51%      95.65%      97.06%\n",
      "   5        97.46%      98.29%      97.87%\n",
      "   2        98.68%      97.39%      98.03%\n",
      "   3        97.48%      99.15%      98.31%\n",
      "   6        98.08%      99.03%      98.55%\n",
      "   8        98.29%      99.14%      98.71%\n",
      "   0        99.19%      98.39%      98.79%\n",
      "   1       100.00%     100.00%     100.00%\n"
     ]
    }
   ],
   "source": [
    "valid_predict = clf.predict(x_valid)\n",
    "\n",
    "print(clf.score(x_valid, y_valid))\n",
    "\n",
    "# translate the str into int\n",
    "number_valid = datacount(y_valid)\n",
    "prove = [int(i) for i in y_valid]\n",
    "predict = [int(j) for j in valid_predict]\n",
    "\n",
    "# calculate the precision, recall and F value and sort it according to F value\n",
    "pre_and_re = precion_and_recall(predict, prove)\n",
    "pre_and_re.sort(key=lambda x:x[2])\n",
    "\n",
    "# list the result in sheet\n",
    "\n",
    "signames = range(10)\n",
    "\n",
    "print(\"{0:<3}\".format(\"DigitName\"),  \"{0:10}\".format(\" Precision\"),\"{0:10}\".format(\"   Recall\"), \" {0:10}\".format(\"     F\"))\n",
    "for j in range(len(pre_and_re)):\n",
    "    print('   {0:<3}'.format(signames[pre_and_re[j][3]]),\n",
    "      \"{0:10.2f}%\".format(pre_and_re[j][0]*100),\"{0:10.2f}%\".format(pre_and_re[j][1]*100),\n",
    "      \"{0:10.2f}%\".format(pre_and_re[j][2]*100))"
   ]
  },
  {
   "cell_type": "markdown",
   "metadata": {},
   "source": [
    "## 6. Naive Bayes"
   ]
  },
  {
   "cell_type": "code",
   "execution_count": 7,
   "metadata": {},
   "outputs": [
    {
     "name": "stdout",
     "output_type": "stream",
     "text": [
      "0.5575846833578793\n"
     ]
    }
   ],
   "source": [
    "from sklearn.naive_bayes import GaussianNB\n",
    "\n",
    "gnb = GaussianNB()\n",
    "gnb.fit(x_train, y_train)\n",
    "score = gnb.score(x_train, y_train)\n",
    "print(score)"
   ]
  },
  {
   "cell_type": "code",
   "execution_count": 18,
   "metadata": {},
   "outputs": [
    {
     "name": "stdout",
     "output_type": "stream",
     "text": [
      "0.5444444444444444\n"
     ]
    }
   ],
   "source": [
    "## evaluate the model\n",
    "\n",
    "valid_predict = gnb.predict(x_valid)\n",
    "\n",
    "print(gnb.score(x_valid, y_valid))\n",
    "\n",
    "# translate the str into int\n",
    "number_valid = datacount(y_valid)\n",
    "prove = [int(i) for i in y_valid]\n",
    "predict = [int(j) for j in valid_predict]\n",
    "\n",
    "# calculate the precision, recall and F value and sort it according to F value\n",
    "pre_and_re = precion_and_recall(predict, prove)\n",
    "pre_and_re.sort(key=lambda x:x[2])"
   ]
  },
  {
   "cell_type": "code",
   "execution_count": 12,
   "metadata": {},
   "outputs": [
    {
     "name": "stdout",
     "output_type": "stream",
     "text": [
      "DigitName  Precision    Recall        F    \n",
      "   5         4.24%      45.45%       7.75%\n",
      "   4        15.20%      79.17%      25.50%\n",
      "   2        21.85%      86.84%      34.92%\n",
      "   8        64.10%      27.88%      38.86%\n",
      "   7        26.09%      83.33%      39.74%\n",
      "   3        32.77%      65.00%      43.58%\n",
      "   9        94.03%      43.00%      59.02%\n",
      "   6        93.27%      52.72%      67.36%\n",
      "   0        92.68%      69.51%      79.44%\n",
      "   1        96.10%      81.77%      88.36%\n"
     ]
    }
   ],
   "source": [
    "## list the result in sheet\n",
    "\n",
    "signames = range(10)\n",
    "\n",
    "print(\"{0:<3}\".format(\"DigitName\"),  \"{0:10}\".format(\" Precision\"),\"{0:10}\".format(\"   Recall\"), \" {0:10}\".format(\"     F\"))\n",
    "for j in range(len(pre_and_re)):\n",
    "    print('   {0:<3}'.format(signames[pre_and_re[j][3]]),\n",
    "      \"{0:10.2f}%\".format(pre_and_re[j][0]*100),\"{0:10.2f}%\".format(pre_and_re[j][1]*100),\n",
    "      \"{0:10.2f}%\".format(pre_and_re[j][2]*100))"
   ]
  },
  {
   "cell_type": "code",
   "execution_count": null,
   "metadata": {
    "collapsed": true
   },
   "outputs": [],
   "source": []
  },
  {
   "cell_type": "markdown",
   "metadata": {},
   "source": [
    "## 7. Descision Tree Classifier"
   ]
  },
  {
   "cell_type": "code",
   "execution_count": 13,
   "metadata": {},
   "outputs": [
    {
     "name": "stdout",
     "output_type": "stream",
     "text": [
      "1.0\n"
     ]
    }
   ],
   "source": [
    "from sklearn.tree import DecisionTreeClassifier\n",
    "tree = DecisionTreeClassifier()\n",
    "tree.fit(x_train, y_train)\n",
    "score = tree.score(x_train, y_train)\n",
    "print(score)"
   ]
  },
  {
   "cell_type": "code",
   "execution_count": 17,
   "metadata": {},
   "outputs": [
    {
     "name": "stdout",
     "output_type": "stream",
     "text": [
      "0.861904761904762\n"
     ]
    }
   ],
   "source": [
    "## evaluate the model\n",
    "\n",
    "valid_predict = tree.predict(x_valid)\n",
    "\n",
    "print(tree.score(x_valid, y_valid))\n",
    "\n",
    "# translate the str into int\n",
    "number_valid = datacount(y_valid)\n",
    "prove = [int(i) for i in y_valid]\n",
    "predict = [int(j) for j in valid_predict]\n",
    "\n",
    "# calculate the precision, recall and F value and sort it according to F value\n",
    "pre_and_re = precion_and_recall(predict, prove)\n",
    "pre_and_re.sort(key=lambda x:x[2])"
   ]
  },
  {
   "cell_type": "code",
   "execution_count": 16,
   "metadata": {},
   "outputs": [
    {
     "name": "stdout",
     "output_type": "stream",
     "text": [
      "DigitName  Precision    Recall        F    \n",
      "   8        77.78%      79.13%      78.45%\n",
      "   5        78.81%      80.17%      79.49%\n",
      "   3        78.15%      81.58%      79.83%\n",
      "   7        86.96%      84.03%      85.47%\n",
      "   6        86.54%      86.54%      86.54%\n",
      "   2        88.08%      85.81%      86.93%\n",
      "   9        85.07%      89.06%      87.02%\n",
      "   4        88.00%      88.00%      88.00%\n",
      "   0        95.93%      88.72%      92.19%\n",
      "   1        93.51%      95.36%      94.43%\n"
     ]
    }
   ],
   "source": [
    "## list the result in sheet\n",
    "\n",
    "signames = range(10)\n",
    "\n",
    "print(\"{0:<3}\".format(\"DigitName\"),  \"{0:10}\".format(\" Precision\"),\"{0:10}\".format(\"   Recall\"), \" {0:10}\".format(\"     F\"))\n",
    "for j in range(len(pre_and_re)):\n",
    "    print('   {0:<3}'.format(signames[pre_and_re[j][3]]),\n",
    "      \"{0:10.2f}%\".format(pre_and_re[j][0]*100),\"{0:10.2f}%\".format(pre_and_re[j][1]*100),\n",
    "      \"{0:10.2f}%\".format(pre_and_re[j][2]*100))"
   ]
  },
  {
   "cell_type": "code",
   "execution_count": null,
   "metadata": {
    "collapsed": true
   },
   "outputs": [],
   "source": [
    "## start tuning\n",
    "## see: http://scikit-learn.org/stable/modules/generated/sklearn.tree.DecisionTreeClassifier.html#sklearn.tree.DecisionTreeClassifier\n"
   ]
  }
 ],
 "metadata": {
  "anaconda-cloud": {},
  "kernelspec": {
   "display_name": "Python [default]",
   "language": "python",
   "name": "python3"
  },
  "language_info": {
   "codemirror_mode": {
    "name": "ipython",
    "version": 3
   },
   "file_extension": ".py",
   "mimetype": "text/x-python",
   "name": "python",
   "nbconvert_exporter": "python",
   "pygments_lexer": "ipython3",
   "version": "3.6.5"
  },
  "widgets": {
   "state": {},
   "version": "1.1.2"
  }
 },
 "nbformat": 4,
 "nbformat_minor": 1
}
