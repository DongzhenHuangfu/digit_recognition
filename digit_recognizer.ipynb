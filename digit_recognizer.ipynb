{
 "cells": [
  {
   "cell_type": "markdown",
   "metadata": {},
   "source": [
    "# Digit Recognizer\n",
    "\n",
    "## Machine Learning\n",
    "\n",
    "In this notebook, I will try to use sklearn to implement machine learning in digit recognizer via two methods: SVM and K-nearest neighbors. "
   ]
  },
  {
   "cell_type": "markdown",
   "metadata": {},
   "source": [
    "---\n",
    "## 1. Load The Data"
   ]
  },
  {
   "cell_type": "code",
   "execution_count": 29,
   "metadata": {},
   "outputs": [],
   "source": [
    "# Load data\n",
    "import csv\n",
    "import numpy as np\n",
    "from sklearn.model_selection import train_test_split\n",
    "\n",
    "# define a function that translat the string into float in the array\n",
    "def trans_str2float(strlist):\n",
    "    floatlist = []\n",
    "    for i in range(len(strlist)):\n",
    "        floatlist.append([])\n",
    "        for j in range(len(strlist[i])):\n",
    "            floatlist[i].append([])\n",
    "            for k in range(len(strlist[i][j])):\n",
    "                floatlist[i][j].append(float(strlist[i][j][k]))      \n",
    "    return list(floatlist)\n",
    "\n",
    "X_str = []\n",
    "Y = []\n",
    "with open('./data/train.csv') as csvfile:\n",
    "    lines = csv.reader(csvfile)\n",
    "    for line in lines:\n",
    "        Y.append(line[0])\n",
    "        image = np.array(line[1:])\n",
    "        image = image.reshape((28,28))\n",
    "        X_str.append(image)\n",
    "    del X_str[0]\n",
    "    del Y[0]\n",
    "\n",
    "x_test_str = []\n",
    "y_test = []\n",
    "with open('./data/test.csv') as csvfile:\n",
    "    lines = csv.reader(csvfile)\n",
    "    for line in lines:\n",
    "        image = np.array(line)\n",
    "        image = image.reshape((28,28))\n",
    "        x_test_str.append(image)\n",
    "    del x_test_str[0]\n",
    "\n",
    "X = trans_str2float(X_str)\n",
    "x_test = trans_str2float(x_test_str)\n",
    "y_test = np.zeros(len(x_test))\n",
    "\n",
    "# split the train data into training and validation part to avoid overfitting\n",
    "# validation set takes 20% data from the whole training data \n",
    "x_train, x_valid, y_train, y_valid = train_test_split(X, Y, test_size=0.2, random_state=1)"
   ]
  },
  {
   "cell_type": "markdown",
   "metadata": {},
   "source": [
    "---\n",
    "\n",
    "## 2. Dataset Summary & Exploration"
   ]
  },
  {
   "cell_type": "markdown",
   "metadata": {},
   "source": [
    "### Provide a Basic Summary of the Data Set"
   ]
  },
  {
   "cell_type": "code",
   "execution_count": 27,
   "metadata": {
    "scrolled": false
   },
   "outputs": [
    {
     "name": "stdout",
     "output_type": "stream",
     "text": [
      "Number of training examples = 33600\n",
      "Number of validation examples = 8400\n",
      "Number of testing examples = 28000\n",
      "Image data shape = 28*28*1\n",
      "Number of classes = 10\n"
     ]
    }
   ],
   "source": [
    "### Replace each question mark with the appropriate value. \n",
    "### Use python, pandas or numpy methods rather than hard coding the results\n",
    "# TODO: Number of training examples\n",
    "n_train = len(x_train)\n",
    "\n",
    "# TODO: Number of validation examples\n",
    "n_validation = len(x_valid)\n",
    "\n",
    "# TODO: Number of testing examples.\n",
    "n_test = len(x_test)\n",
    "\n",
    "# TODO: What's the shape of an traffic sign image?\n",
    "image_shape = str(len(x_train[0])) + '*' + str(len(x_train[0][0])) + '*' + str(1)\n",
    "\n",
    "# TODO: How many unique classes/labels there are in the dataset.\n",
    "n_classes = len(set(y_train))\n",
    "\n",
    "print(\"Number of training examples =\", n_train)\n",
    "print(\"Number of validation examples =\", n_validation)\n",
    "print(\"Number of testing examples =\", n_test)\n",
    "print(\"Image data shape =\", image_shape)\n",
    "print(\"Number of classes =\", n_classes)"
   ]
  },
  {
   "cell_type": "markdown",
   "metadata": {},
   "source": [
    "### Include an exploratory visualization of the dataset"
   ]
  },
  {
   "cell_type": "code",
   "execution_count": 28,
   "metadata": {},
   "outputs": [
    {
     "name": "stdout",
     "output_type": "stream",
     "text": [
      "5\n"
     ]
    },
    {
     "data": {
      "image/png": "[encoded data removed]",
      "text/plain": [
       "<matplotlib.figure.Figure at 0x2c535be8080>"
      ]
     },
     "metadata": {},
     "output_type": "display_data"
    }
   ],
   "source": [
    "### Data exploration visualization code goes here.\n",
    "import matplotlib.pyplot as plt\n",
    "import random\n",
    "# Visualizations will be shown in the notebook.\n",
    "%matplotlib inline\n",
    "\n",
    "index = random.randint(0,len(x_test))\n",
    "image = x_train[index]\n",
    "\n",
    "plt.figure(figsize=(1,1))\n",
    "plt.imshow(image, cmap='gray')\n",
    "print(y_train[index])"
   ]
  },
  {
   "cell_type": "code",
   "execution_count": 32,
   "metadata": {
    "scrolled": false
   },
   "outputs": [
    {
     "data": {
      "image/png": "[encoded data removed]",
      "text/plain": [
       "<matplotlib.figure.Figure at 0x2c535b91828>"
      ]
     },
     "metadata": {},
     "output_type": "display_data"
    }
   ],
   "source": [
    "### show the data in picture\n",
    "import copy\n",
    "\n",
    "def datacount(data):\n",
    "    number = []\n",
    "    count = copy.deepcopy(data)\n",
    "    count.sort()\n",
    "    for i in range(9):\n",
    "        a = count.index(str(i+1))-count.index(str(i))\n",
    "        number.append(a)\n",
    "        \n",
    "    a = len(count)-count.index(str(9))\n",
    "    number.append(a)\n",
    "    return number\n",
    "\n",
    "signs = np.arange(10)\n",
    "plt.figure(figsize=(15,15))\n",
    "percent_train = np.divide(datacount(y_train),len(y_train))\n",
    "percent_valid = np.divide(datacount(y_valid),len(y_valid))\n",
    "# percent_test = np.divide(datacount(y_test),len(y_test))\n",
    "plt.bar(signs-0.1, percent_train, width = 0.2, fc = 'r', edgecolor = 'white', label='train', lw=1)\n",
    "plt.bar(signs+0.1, percent_valid, width = 0.2, fc = 'g', edgecolor = 'white', label='validation', lw=1)\n",
    "# plt.bar(signs+0.25, percent_test, width = 0.25, fc = 'b', edgecolor = 'white', label='test', lw=1)\n",
    "plt.legend(loc=\"upper left\")\n",
    "plt.savefig('./pictures/data_bar.jpg')\n",
    "plt.show()"
   ]
  },
  {
   "cell_type": "code",
   "execution_count": 47,
   "metadata": {},
   "outputs": [
    {
     "name": "stdout",
     "output_type": "stream",
     "text": [
      "SignName   Training   Validation\n",
      "   0         9.76%      10.15%\n",
      "   1        11.14%      11.19%\n",
      "   2         9.95%       9.94%\n",
      "   3        10.35%      10.39%\n",
      "   4         9.65%       9.87%\n",
      "   5         9.12%       8.70%\n",
      "   6         9.93%       9.52%\n",
      "   7        10.57%      10.12%\n",
      "   8         9.57%      10.07%\n",
      "   9         9.96%      10.04%\n"
     ]
    }
   ],
   "source": [
    "### show the data in table\n",
    "\n",
    "print(\"{0:<3}\".format(\"SignName\"), \"{0:10}\".format(\"  Training \"),\"{0:10}\".format(\" Validation\"))\n",
    "for j in range(10):\n",
    "    print('   {0:<3}'.format(j),\n",
    "          \"{0:10.2f}%\".format(percent_train[j]*100 ),\"{0:10.2f}%\".format(percent_valid[j]*100 ))"
   ]
  },
  {
   "cell_type": "code",
   "execution_count": 54,
   "metadata": {},
   "outputs": [
    {
     "data": {
      "image/png": "[encoded data removed]",
      "text/plain": [
       "<matplotlib.figure.Figure at 0x2c532162be0>"
      ]
     },
     "metadata": {},
     "output_type": "display_data"
    }
   ],
   "source": [
    "### visualize all the examples\n",
    "\n",
    "fig = plt.figure(figsize=(20,20))\n",
    "\n",
    "for i in range(10):\n",
    "    y = list(y_train)\n",
    "    index = y.index(str(i))\n",
    "    fig.add_subplot(5,10,i+1)\n",
    "    fig.add_subplot(5,10,i+1).set_title(str(i))\n",
    "    plt.imshow(x_train[index])"
   ]
  },
  {
   "cell_type": "markdown",
   "metadata": {},
   "source": [
    "----\n",
    "\n",
    "## 3. Data processing\n",
    "\n",
    "To train the codel more effectively, I will do some pre-processing (normalization).\n",
    "\n",
    "The image data should be normalized so that the data has mean zero and equal variance. For image data, `(pixel - 128)/ 128` is a quick way to approximately normalize the data and can be used in this project. "
   ]
  },
  {
   "cell_type": "code",
   "execution_count": 57,
   "metadata": {
    "scrolled": false
   },
   "outputs": [],
   "source": [
    "### Preprocess the data here. It is required to normalize the data. Other preprocessing steps could include \n",
    "### converting to grayscale, etc.\n",
    "### Feel free to use as many code cells as needed.\n",
    "\n",
    "# normalized the pixels\n",
    "x_train = (np.array(x_train)-128.0)/128.0\n",
    "x_valid = (np.array(x_valid)-128.0)/128.0\n",
    "x_test = (np.array(x_test)-128.0)/128.0"
   ]
  }
 ],
 "metadata": {
  "anaconda-cloud": {},
  "kernelspec": {
   "display_name": "Python 3",
   "language": "python",
   "name": "python3"
  },
  "language_info": {
   "codemirror_mode": {
    "name": "ipython",
    "version": 3
   },
   "file_extension": ".py",
   "mimetype": "text/x-python",
   "name": "python",
   "nbconvert_exporter": "python",
   "pygments_lexer": "ipython3",
   "version": "3.5.2"
  },
  "widgets": {
   "state": {},
   "version": "1.1.2"
  }
 },
 "nbformat": 4,
 "nbformat_minor": 1
}
