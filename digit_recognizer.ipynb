{
 "cells": [
  {
   "cell_type": "markdown",
   "metadata": {},
   "source": [
    "# Digit Recognizer\n",
    "\n",
    "## Machine Learning\n",
    "\n",
    "In this notebook, I will try to use sklearn to implement machine learning in digit recognizer via two methods: SVM and K-nearest neighbors. "
   ]
  },
  {
   "cell_type": "markdown",
   "metadata": {},
   "source": [
    "---\n",
    "## 1. Load The Data"
   ]
  },
  {
   "cell_type": "code",
   "execution_count": 1,
   "metadata": {},
   "outputs": [],
   "source": [
    "## Load data\n",
    "import csv\n",
    "import numpy as np\n",
    "from sklearn.model_selection import train_test_split\n",
    "\n",
    "## define a function that translat the string into float in the array\n",
    "def trans_str2int(strlist):\n",
    "    intlist = []\n",
    "    for i in range(len(strlist)):\n",
    "        intlist.append([])\n",
    "        for j in range(len(strlist[i])):\n",
    "            intlist[i].append(int(strlist[i][j]))\n",
    "    return list(intlist)\n",
    "\n",
    "X_str = []\n",
    "Y = []\n",
    "with open('./data/train.csv') as csvfile:\n",
    "    lines = csv.reader(csvfile)\n",
    "    for line in lines:\n",
    "        Y.append(line[0])\n",
    "        image = np.array(line[1:])\n",
    "        X_str.append(image)\n",
    "    del X_str[0]\n",
    "    del Y[0]\n",
    "\n",
    "x_test_str = []\n",
    "with open('./data/test.csv') as csvfile:\n",
    "    lines = csv.reader(csvfile)\n",
    "    for line in lines:\n",
    "        image = np.array(line)\n",
    "        x_test_str.append(image)\n",
    "    del x_test_str[0]\n",
    "\n",
    "X = trans_str2int(X_str)\n",
    "x_test = trans_str2int(x_test_str)\n",
    "y_test = np.zeros(len(x_test))\n",
    "\n",
    "## split the train data into training and validation part to check the model\n",
    "## validation set takes 3% data from the whole training data \n",
    "x_train, x_valid, y_train, y_valid = train_test_split(X, Y, test_size=0.03, random_state=1)"
   ]
  },
  {
   "cell_type": "markdown",
   "metadata": {},
   "source": [
    "---\n",
    "\n",
    "## 2. Dataset Summary & Exploration"
   ]
  },
  {
   "cell_type": "markdown",
   "metadata": {},
   "source": [
    "### Provide a Basic Summary of the Data Set"
   ]
  },
  {
   "cell_type": "code",
   "execution_count": 2,
   "metadata": {
    "scrolled": false
   },
   "outputs": [
    {
     "name": "stdout",
     "output_type": "stream",
     "text": [
      "Number of training examples = 40740\n",
      "Number of validation examples = 1260\n",
      "Number of testing examples = 28000\n",
      "Image data shape = 784*1\n",
      "Number of classes = 10\n"
     ]
    }
   ],
   "source": [
    "## print the size of each set\n",
    "n_train = len(x_train)\n",
    "\n",
    "## Number of validation examples\n",
    "n_validation = len(x_valid)\n",
    "\n",
    "## Number of testing examples.\n",
    "n_test = len(x_test)\n",
    "\n",
    "## The shape of the data\n",
    "image_shape = str(1) + '*' + str(len(x_train[0]))\n",
    "\n",
    "## Numbers of unique classes/labels in the dataset.\n",
    "n_classes = len(set(y_train))\n",
    "\n",
    "print(\"Number of training examples =\", n_train)\n",
    "print(\"Number of validation examples =\", n_validation)\n",
    "print(\"Number of testing examples =\", n_test)\n",
    "print(\"Image data shape =\", image_shape)\n",
    "print(\"Number of classes =\", n_classes)"
   ]
  },
  {
   "cell_type": "markdown",
   "metadata": {},
   "source": [
    "### Include an exploratory visualization of the dataset"
   ]
  },
  {
   "cell_type": "code",
   "execution_count": 3,
   "metadata": {},
   "outputs": [
    {
     "name": "stdout",
     "output_type": "stream",
     "text": [
      "8\n"
     ]
    },
    {
     "data": {
      "image/png": "[encoded data removed]",
      "text/plain": [
       "<matplotlib.figure.Figure at 0x176ea54c400>"
      ]
     },
     "metadata": {},
     "output_type": "display_data"
    }
   ],
   "source": [
    "## Data exploration visualization code goes here.\n",
    "import matplotlib.pyplot as plt\n",
    "import random\n",
    "# Visualizations will be shown in the notebook.\n",
    "%matplotlib inline\n",
    "\n",
    "index = random.randint(0,len(x_test))\n",
    "image = np.array(x_train[index])\n",
    "image = image.reshape((28,28))\n",
    "\n",
    "plt.figure(figsize=(1,1))\n",
    "plt.imshow(image, cmap='gray')\n",
    "print(y_train[index])"
   ]
  },
  {
   "cell_type": "code",
   "execution_count": 4,
   "metadata": {
    "scrolled": false
   },
   "outputs": [
    {
     "data": {
      "image/png": "[encoded data removed]",
      "text/plain": [
       "<matplotlib.figure.Figure at 0x176b75c82e8>"
      ]
     },
     "metadata": {},
     "output_type": "display_data"
    }
   ],
   "source": [
    "## show the data in picture\n",
    "import copy\n",
    "\n",
    "def datacount(data):\n",
    "    number = []\n",
    "    count = copy.deepcopy(data)\n",
    "    count.sort()\n",
    "    for i in range(9):\n",
    "        a = count.index(str(i+1))-count.index(str(i))\n",
    "        number.append(a)\n",
    "        \n",
    "    a = len(count)-count.index(str(9))\n",
    "    number.append(a)\n",
    "    return number\n",
    "\n",
    "signs = np.arange(10)\n",
    "plt.figure(figsize=(15,15))\n",
    "percent_train = np.divide(datacount(y_train),len(y_train))\n",
    "percent_valid = np.divide(datacount(y_valid),len(y_valid))\n",
    "# percent_test = np.divide(datacount(y_test),len(y_test))\n",
    "plt.bar(signs-0.1, percent_train, width = 0.2, fc = 'r', edgecolor = 'white', label='train', lw=1)\n",
    "plt.bar(signs+0.1, percent_valid, width = 0.2, fc = 'g', edgecolor = 'white', label='validation', lw=1)\n",
    "# plt.bar(signs+0.25, percent_test, width = 0.25, fc = 'b', edgecolor = 'white', label='test', lw=1)\n",
    "plt.legend(loc=\"upper left\")\n",
    "plt.savefig('./pictures/data_bar.jpg')\n",
    "plt.show()"
   ]
  },
  {
   "cell_type": "code",
   "execution_count": 5,
   "metadata": {},
   "outputs": [
    {
     "name": "stdout",
     "output_type": "stream",
     "text": [
      "DigitName   Training   Validation\n",
      "   0         9.84%       9.76%\n",
      "   1        11.12%      12.22%\n",
      "   2         9.88%      11.98%\n",
      "   3        10.39%       9.44%\n",
      "   4         9.69%       9.92%\n",
      "   5         9.03%       9.37%\n",
      "   6         9.90%       8.25%\n",
      "   7        10.52%       9.13%\n",
      "   8         9.69%       9.29%\n",
      "   9         9.95%      10.63%\n"
     ]
    }
   ],
   "source": [
    "## show the data in table\n",
    "\n",
    "print(\"{0:<3}\".format(\"DigitName\"), \"{0:10}\".format(\"  Training \"),\"{0:10}\".format(\" Validation\"))\n",
    "for j in range(10):\n",
    "    print('   {0:<3}'.format(j),\n",
    "          \"{0:10.2f}%\".format(percent_train[j]*100 ),\"{0:10.2f}%\".format(percent_valid[j]*100 ))"
   ]
  },
  {
   "cell_type": "code",
   "execution_count": 6,
   "metadata": {},
   "outputs": [
    {
     "data": {
      "image/png": "[encoded data removed]",
      "text/plain": [
       "<matplotlib.figure.Figure at 0x176b731aba8>"
      ]
     },
     "metadata": {},
     "output_type": "display_data"
    }
   ],
   "source": [
    "## visualize all the examples\n",
    "\n",
    "fig = plt.figure(figsize=(20,20))\n",
    "\n",
    "for i in range(10):\n",
    "    y = list(y_train)\n",
    "    index = y.index(str(i))\n",
    "    fig.add_subplot(5,10,i+1)\n",
    "    fig.add_subplot(5,10,i+1).set_title(str(i))\n",
    "    plt.imshow(np.array(x_train[index]).reshape(28,28), cmap='gray')"
   ]
  },
  {
   "cell_type": "markdown",
   "metadata": {},
   "source": [
    "----\n",
    "\n",
    "## 3. Data processing\n",
    "\n",
    "To train the codel more effectively, I will do some pre-processing (normalization).\n",
    "\n",
    "The image data should be normalized so that the data has mean zero and equal variance. For image data, `(pixel - 128)/ 128` is a quick way to approximately normalize the data and can be used in this project. "
   ]
  },
  {
   "cell_type": "code",
   "execution_count": 7,
   "metadata": {
    "scrolled": false
   },
   "outputs": [],
   "source": [
    "## normalized the pixels\n",
    "x_train = (np.array(x_train)-128.0)/128.0\n",
    "x_valid = (np.array(x_valid)-128.0)/128.0\n",
    "x_test = (np.array(x_test)-128.0)/128.0"
   ]
  },
  {
   "cell_type": "markdown",
   "metadata": {},
   "source": [
    "----\n",
    "\n",
    "## 4. KNN method"
   ]
  },
  {
   "cell_type": "code",
   "execution_count": 14,
   "metadata": {},
   "outputs": [
    {
     "name": "stdout",
     "output_type": "stream",
     "text": [
      "0.953968253968\n"
     ]
    }
   ],
   "source": [
    "## train the model\n",
    "\n",
    "from sklearn import neighbors\n",
    "\n",
    "knn = neighbors.KNeighborsClassifier(20, weights='distance')\n",
    "knn.fit(x_train, y_train)\n",
    "score = knn.score(x_valid, y_valid)\n",
    "valid_predict = knn.predict(x_valid)\n",
    "print(score)"
   ]
  },
  {
   "cell_type": "code",
   "execution_count": 21,
   "metadata": {
    "scrolled": true
   },
   "outputs": [],
   "source": [
    "## evaluate the model\n",
    "\n",
    "# define a function to calculate the precision, recall and F value\n",
    "def precion_and_recall(prediction,proves):\n",
    "    calcu = [[0,0,0,i] for i in range(10)]\n",
    "    for i in range(len(prediction)):\n",
    "        if proves[i] == prediction[i]:\n",
    "            calcu[proves[i]][1] += 1 \n",
    "        else:\n",
    "            calcu[proves[i]][0] += 1\n",
    "            calcu[prediction[i]][2] += 1\n",
    "    ret = calcu\n",
    "    for j in range(len(calcu)):\n",
    "        ret[j][0] = calcu[j][1]/(calcu[j][1]+calcu[j][0])  ### precision\n",
    "        ret[j][1] = calcu[j][1]/(calcu[j][1]+calcu[j][2])  ### recall\n",
    "        ret[j][2] = ret[j][0]*ret[j][1]*2/(ret[j][1]+ret[j][0])  ### F\n",
    "    return ret\n",
    "\n",
    "# translate the str into int\n",
    "number_valid = datacount(y_valid)\n",
    "prove = [int(i) for i in y_valid]\n",
    "predict = [int(j) for j in valid_predict]\n",
    "\n",
    "# calculate the precision, recall and F value and sort it according to F value\n",
    "pre_and_re = precion_and_recall(predict, prove)\n",
    "pre_and_re.sort(key=lambda x:x[2])"
   ]
  },
  {
   "cell_type": "code",
   "execution_count": 34,
   "metadata": {},
   "outputs": [
    {
     "name": "stdout",
     "output_type": "stream",
     "text": [
      "DigitName  Precision    Recall        F    \n",
      "   5        93.22%      94.83%      94.02%\n",
      "   3        92.44%      95.65%      94.02%\n",
      "   7        95.65%      94.02%      94.83%\n",
      "   9        94.78%      96.21%      95.49%\n",
      "   4        96.00%      96.00%      96.00%\n",
      "   8        94.87%      97.37%      96.10%\n",
      "   2        98.01%      96.73%      97.37%\n",
      "   6        98.08%      97.14%      97.61%\n",
      "   0        99.19%      96.83%      97.99%\n",
      "   1       100.00%      98.09%      99.04%\n"
     ]
    }
   ],
   "source": [
    "## list the result in sheet\n",
    "\n",
    "signames = range(10)\n",
    "\n",
    "print(\"{0:<3}\".format(\"DigitName\"),  \"{0:10}\".format(\" Precision\"),\"{0:10}\".format(\"   Recall\"), \" {0:10}\".format(\"     F\"))\n",
    "for j in range(len(pre_and_re)):\n",
    "    print('   {0:<3}'.format(signames[pre_and_re[j][3]]),\n",
    "      \"{0:10.2f}%\".format(pre_and_re[j][0]*100),\"{0:10.2f}%\".format(pre_and_re[j][1]*100),\n",
    "      \"{0:10.2f}%\".format(pre_and_re[j][2]*100))"
   ]
  },
  {
   "cell_type": "markdown",
   "metadata": {},
   "source": [
    "## 5. SVM Method"
   ]
  },
  {
   "cell_type": "code",
   "execution_count": 16,
   "metadata": {},
   "outputs": [
    {
     "name": "stdout",
     "output_type": "stream",
     "text": [
      "0.971060382916\n"
     ]
    }
   ],
   "source": [
    "# train the model\n",
    "\n",
    "from sklearn import svm\n",
    "\n",
    "clf = svm.SVC()\n",
    "clf.fit(x_train, y_train)\n",
    "score = clf.score(x_train, y_train)\n",
    "print(score)"
   ]
  },
  {
   "cell_type": "code",
   "execution_count": 32,
   "metadata": {},
   "outputs": [],
   "source": [
    "## evaluate the model\n",
    "\n",
    "valid_predict = clf.predict(x_valid)\n",
    "\n",
    "# translate the str into int\n",
    "number_valid = datacount(y_valid)\n",
    "prove = [int(i) for i in y_valid]\n",
    "predict = [int(j) for j in valid_predict]\n",
    "\n",
    "# calculate the precision, recall and F value and sort it according to F value\n",
    "pre_and_re = precion_and_recall(predict, prove)\n",
    "pre_and_re.sort(key=lambda x:x[2])"
   ]
  },
  {
   "cell_type": "code",
   "execution_count": 35,
   "metadata": {},
   "outputs": [
    {
     "name": "stdout",
     "output_type": "stream",
     "text": [
      "DigitName  Precision    Recall        F    \n",
      "   5        93.22%      94.83%      94.02%\n",
      "   3        92.44%      95.65%      94.02%\n",
      "   7        95.65%      94.02%      94.83%\n",
      "   9        94.78%      96.21%      95.49%\n",
      "   4        96.00%      96.00%      96.00%\n",
      "   8        94.87%      97.37%      96.10%\n",
      "   2        98.01%      96.73%      97.37%\n",
      "   6        98.08%      97.14%      97.61%\n",
      "   0        99.19%      96.83%      97.99%\n",
      "   1       100.00%      98.09%      99.04%\n"
     ]
    }
   ],
   "source": [
    "# list the result in sheet\n",
    "\n",
    "print(\"{0:<3}\".format(\"DigitName\"),  \"{0:10}\".format(\" Precision\"),\"{0:10}\".format(\"   Recall\"), \" {0:10}\".format(\"     F\"))\n",
    "for j in range(len(pre_and_re)):\n",
    "    print('   {0:<3}'.format(signames[pre_and_re[j][3]]),\n",
    "      \"{0:10.2f}%\".format(pre_and_re[j][0]*100),\"{0:10.2f}%\".format(pre_and_re[j][1]*100),\n",
    "      \"{0:10.2f}%\".format(pre_and_re[j][2]*100))"
   ]
  },
  {
   "cell_type": "code",
   "execution_count": null,
   "metadata": {},
   "outputs": [],
   "source": []
  }
 ],
 "metadata": {
  "anaconda-cloud": {},
  "kernelspec": {
   "display_name": "Python 3",
   "language": "python",
   "name": "python3"
  },
  "language_info": {
   "codemirror_mode": {
    "name": "ipython",
    "version": 3
   },
   "file_extension": ".py",
   "mimetype": "text/x-python",
   "name": "python",
   "nbconvert_exporter": "python",
   "pygments_lexer": "ipython3",
   "version": "3.5.2"
  },
  "widgets": {
   "state": {},
   "version": "1.1.2"
  }
 },
 "nbformat": 4,
 "nbformat_minor": 1
}
